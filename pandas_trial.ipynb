{
 "cells": [
  {
   "cell_type": "code",
   "execution_count": 17,
   "metadata": {},
   "outputs": [],
   "source": [
    "dictStudents = {\n",
    "    \"Name\" : ['Osman', 'Hamdi', 'Elmas', 'Tanem', 'Gül Peri'],\n",
    "    \"Surname\" : ['Irak','Eski', 'Koksalar','Ozturk','Bilgen'],\n",
    "    \"Numara\": [101,204,102,103,205]\n",
    "}   "
   ]
  },
  {
   "cell_type": "code",
   "execution_count": 18,
   "metadata": {},
   "outputs": [
    {
     "data": {
      "text/html": [
       "<div>\n",
       "<style scoped>\n",
       "    .dataframe tbody tr th:only-of-type {\n",
       "        vertical-align: middle;\n",
       "    }\n",
       "\n",
       "    .dataframe tbody tr th {\n",
       "        vertical-align: top;\n",
       "    }\n",
       "\n",
       "    .dataframe thead th {\n",
       "        text-align: right;\n",
       "    }\n",
       "</style>\n",
       "<table border=\"1\" class=\"dataframe\">\n",
       "  <thead>\n",
       "    <tr style=\"text-align: right;\">\n",
       "      <th></th>\n",
       "      <th>Name</th>\n",
       "      <th>Surname</th>\n",
       "      <th>Numara</th>\n",
       "    </tr>\n",
       "  </thead>\n",
       "  <tbody>\n",
       "    <tr>\n",
       "      <th>Std0</th>\n",
       "      <td>Osman</td>\n",
       "      <td>Irak</td>\n",
       "      <td>101</td>\n",
       "    </tr>\n",
       "    <tr>\n",
       "      <th>Std1</th>\n",
       "      <td>Hamdi</td>\n",
       "      <td>Eski</td>\n",
       "      <td>204</td>\n",
       "    </tr>\n",
       "    <tr>\n",
       "      <th>Std2</th>\n",
       "      <td>Elmas</td>\n",
       "      <td>Koksalar</td>\n",
       "      <td>102</td>\n",
       "    </tr>\n",
       "    <tr>\n",
       "      <th>Std3</th>\n",
       "      <td>Tanem</td>\n",
       "      <td>Ozturk</td>\n",
       "      <td>103</td>\n",
       "    </tr>\n",
       "    <tr>\n",
       "      <th>Std4</th>\n",
       "      <td>Gül Peri</td>\n",
       "      <td>Bilgen</td>\n",
       "      <td>205</td>\n",
       "    </tr>\n",
       "  </tbody>\n",
       "</table>\n",
       "</div>"
      ],
      "text/plain": [
       "          Name   Surname  Numara\n",
       "Std0     Osman      Irak     101\n",
       "Std1     Hamdi      Eski     204\n",
       "Std2     Elmas  Koksalar     102\n",
       "Std3     Tanem    Ozturk     103\n",
       "Std4  Gül Peri    Bilgen     205"
      ]
     },
     "execution_count": 18,
     "metadata": {},
     "output_type": "execute_result"
    }
   ],
   "source": [
    "import pandas as pd\n",
    "liste = []\n",
    "for a in range(0,5):\n",
    "    liste.append('Std'+str(a))\n",
    "dfStudents = pd.DataFrame(dictStudents, index=[liste])\n",
    "dfStudents = dfStudents.copy()\n",
    "dfStudents"
   ]
  },
  {
   "cell_type": "code",
   "execution_count": 19,
   "metadata": {},
   "outputs": [
    {
     "data": {
      "text/html": [
       "<div>\n",
       "<style scoped>\n",
       "    .dataframe tbody tr th:only-of-type {\n",
       "        vertical-align: middle;\n",
       "    }\n",
       "\n",
       "    .dataframe tbody tr th {\n",
       "        vertical-align: top;\n",
       "    }\n",
       "\n",
       "    .dataframe thead th {\n",
       "        text-align: right;\n",
       "    }\n",
       "</style>\n",
       "<table border=\"1\" class=\"dataframe\">\n",
       "  <thead>\n",
       "    <tr style=\"text-align: right;\">\n",
       "      <th></th>\n",
       "      <th>Name</th>\n",
       "      <th>Surname</th>\n",
       "    </tr>\n",
       "  </thead>\n",
       "  <tbody>\n",
       "    <tr>\n",
       "      <th>Std0</th>\n",
       "      <td>Osman</td>\n",
       "      <td>Irak</td>\n",
       "    </tr>\n",
       "    <tr>\n",
       "      <th>Std1</th>\n",
       "      <td>Hamdi</td>\n",
       "      <td>Eski</td>\n",
       "    </tr>\n",
       "    <tr>\n",
       "      <th>Std2</th>\n",
       "      <td>Elmas</td>\n",
       "      <td>Koksalar</td>\n",
       "    </tr>\n",
       "    <tr>\n",
       "      <th>Std3</th>\n",
       "      <td>Tanem</td>\n",
       "      <td>Ozturk</td>\n",
       "    </tr>\n",
       "    <tr>\n",
       "      <th>Std4</th>\n",
       "      <td>Gül Peri</td>\n",
       "      <td>Bilgen</td>\n",
       "    </tr>\n",
       "  </tbody>\n",
       "</table>\n",
       "</div>"
      ],
      "text/plain": [
       "          Name   Surname\n",
       "Std0     Osman      Irak\n",
       "Std1     Hamdi      Eski\n",
       "Std2     Elmas  Koksalar\n",
       "Std3     Tanem    Ozturk\n",
       "Std4  Gül Peri    Bilgen"
      ]
     },
     "execution_count": 19,
     "metadata": {},
     "output_type": "execute_result"
    }
   ],
   "source": [
    "#loc ile seçim işlemi\n",
    "dfStudents.loc[:,'Name':'Surname']"
   ]
  },
  {
   "cell_type": "code",
   "execution_count": 20,
   "metadata": {},
   "outputs": [
    {
     "data": {
      "text/html": [
       "<div>\n",
       "<style scoped>\n",
       "    .dataframe tbody tr th:only-of-type {\n",
       "        vertical-align: middle;\n",
       "    }\n",
       "\n",
       "    .dataframe tbody tr th {\n",
       "        vertical-align: top;\n",
       "    }\n",
       "\n",
       "    .dataframe thead th {\n",
       "        text-align: right;\n",
       "    }\n",
       "</style>\n",
       "<table border=\"1\" class=\"dataframe\">\n",
       "  <thead>\n",
       "    <tr style=\"text-align: right;\">\n",
       "      <th></th>\n",
       "      <th>Name</th>\n",
       "      <th>Surname</th>\n",
       "      <th>Numara</th>\n",
       "    </tr>\n",
       "  </thead>\n",
       "  <tbody>\n",
       "    <tr>\n",
       "      <th>Std0</th>\n",
       "      <td>Osman</td>\n",
       "      <td>Irak</td>\n",
       "      <td>501</td>\n",
       "    </tr>\n",
       "    <tr>\n",
       "      <th>Std1</th>\n",
       "      <td>Hamdi</td>\n",
       "      <td>Eski</td>\n",
       "      <td>502</td>\n",
       "    </tr>\n",
       "    <tr>\n",
       "      <th>Std2</th>\n",
       "      <td>Elmas</td>\n",
       "      <td>Koksalar</td>\n",
       "      <td>503</td>\n",
       "    </tr>\n",
       "    <tr>\n",
       "      <th>Std3</th>\n",
       "      <td>Tanem</td>\n",
       "      <td>Ozturk</td>\n",
       "      <td>504</td>\n",
       "    </tr>\n",
       "    <tr>\n",
       "      <th>Std4</th>\n",
       "      <td>Gül Peri</td>\n",
       "      <td>Bilgen</td>\n",
       "      <td>505</td>\n",
       "    </tr>\n",
       "  </tbody>\n",
       "</table>\n",
       "</div>"
      ],
      "text/plain": [
       "          Name   Surname  Numara\n",
       "Std0     Osman      Irak     501\n",
       "Std1     Hamdi      Eski     502\n",
       "Std2     Elmas  Koksalar     503\n",
       "Std3     Tanem    Ozturk     504\n",
       "Std4  Gül Peri    Bilgen     505"
      ]
     },
     "execution_count": 20,
     "metadata": {},
     "output_type": "execute_result"
    }
   ],
   "source": [
    "dfStudents['Numara'] = [501,502,503,504,505]\n",
    "dfStudents \n",
    "# Tüm kolon'u modifiye ettik"
   ]
  },
  {
   "cell_type": "code",
   "execution_count": 21,
   "metadata": {},
   "outputs": [
    {
     "data": {
      "text/html": [
       "<div>\n",
       "<style scoped>\n",
       "    .dataframe tbody tr th:only-of-type {\n",
       "        vertical-align: middle;\n",
       "    }\n",
       "\n",
       "    .dataframe tbody tr th {\n",
       "        vertical-align: top;\n",
       "    }\n",
       "\n",
       "    .dataframe thead th {\n",
       "        text-align: right;\n",
       "    }\n",
       "</style>\n",
       "<table border=\"1\" class=\"dataframe\">\n",
       "  <thead>\n",
       "    <tr style=\"text-align: right;\">\n",
       "      <th></th>\n",
       "      <th>Name</th>\n",
       "      <th>Surname</th>\n",
       "      <th>Numara</th>\n",
       "    </tr>\n",
       "  </thead>\n",
       "  <tbody>\n",
       "    <tr>\n",
       "      <th>Std0</th>\n",
       "      <td>Osman</td>\n",
       "      <td>Irak</td>\n",
       "      <td>501</td>\n",
       "    </tr>\n",
       "    <tr>\n",
       "      <th>Std1</th>\n",
       "      <td>Hamdi</td>\n",
       "      <td>Eskilesti</td>\n",
       "      <td>502</td>\n",
       "    </tr>\n",
       "    <tr>\n",
       "      <th>Std2</th>\n",
       "      <td>Elmas</td>\n",
       "      <td>Koksalar</td>\n",
       "      <td>503</td>\n",
       "    </tr>\n",
       "    <tr>\n",
       "      <th>Std3</th>\n",
       "      <td>Tanem</td>\n",
       "      <td>Ozturk</td>\n",
       "      <td>504</td>\n",
       "    </tr>\n",
       "    <tr>\n",
       "      <th>Std4</th>\n",
       "      <td>Gül Peri</td>\n",
       "      <td>Bilgen</td>\n",
       "      <td>505</td>\n",
       "    </tr>\n",
       "  </tbody>\n",
       "</table>\n",
       "</div>"
      ],
      "text/plain": [
       "          Name    Surname  Numara\n",
       "Std0     Osman       Irak     501\n",
       "Std1     Hamdi  Eskilesti     502\n",
       "Std2     Elmas   Koksalar     503\n",
       "Std3     Tanem     Ozturk     504\n",
       "Std4  Gül Peri     Bilgen     505"
      ]
     },
     "execution_count": 21,
     "metadata": {},
     "output_type": "execute_result"
    }
   ],
   "source": [
    "dfStudents.iloc[1,1] = 'Eskilesti'\n",
    "dfStudents"
   ]
  },
  {
   "cell_type": "code",
   "execution_count": 28,
   "metadata": {},
   "outputs": [
    {
     "data": {
      "text/html": [
       "<div>\n",
       "<style scoped>\n",
       "    .dataframe tbody tr th:only-of-type {\n",
       "        vertical-align: middle;\n",
       "    }\n",
       "\n",
       "    .dataframe tbody tr th {\n",
       "        vertical-align: top;\n",
       "    }\n",
       "\n",
       "    .dataframe thead th {\n",
       "        text-align: right;\n",
       "    }\n",
       "</style>\n",
       "<table border=\"1\" class=\"dataframe\">\n",
       "  <thead>\n",
       "    <tr style=\"text-align: right;\">\n",
       "      <th></th>\n",
       "      <th>Name</th>\n",
       "      <th>Surname</th>\n",
       "      <th>Numara</th>\n",
       "      <th>0</th>\n",
       "    </tr>\n",
       "  </thead>\n",
       "  <tbody>\n",
       "    <tr>\n",
       "      <th>0</th>\n",
       "      <td>Osman</td>\n",
       "      <td>Irak</td>\n",
       "      <td>501</td>\n",
       "      <td>NaN</td>\n",
       "    </tr>\n",
       "    <tr>\n",
       "      <th>1</th>\n",
       "      <td>Hamdi</td>\n",
       "      <td>Eskilesti</td>\n",
       "      <td>502</td>\n",
       "      <td>NaN</td>\n",
       "    </tr>\n",
       "    <tr>\n",
       "      <th>2</th>\n",
       "      <td>Elmas</td>\n",
       "      <td>Koksalar</td>\n",
       "      <td>503</td>\n",
       "      <td>NaN</td>\n",
       "    </tr>\n",
       "    <tr>\n",
       "      <th>3</th>\n",
       "      <td>Tanem</td>\n",
       "      <td>Ozturk</td>\n",
       "      <td>504</td>\n",
       "      <td>NaN</td>\n",
       "    </tr>\n",
       "    <tr>\n",
       "      <th>4</th>\n",
       "      <td>Gül Peri</td>\n",
       "      <td>Bilgen</td>\n",
       "      <td>505</td>\n",
       "      <td>NaN</td>\n",
       "    </tr>\n",
       "    <tr>\n",
       "      <th>5</th>\n",
       "      <td>Anil</td>\n",
       "      <td>Ergan</td>\n",
       "      <td>759</td>\n",
       "      <td>NaN</td>\n",
       "    </tr>\n",
       "    <tr>\n",
       "      <th>6</th>\n",
       "      <td>NaN</td>\n",
       "      <td>NaN</td>\n",
       "      <td>NaN</td>\n",
       "      <td>Anil</td>\n",
       "    </tr>\n",
       "    <tr>\n",
       "      <th>7</th>\n",
       "      <td>NaN</td>\n",
       "      <td>NaN</td>\n",
       "      <td>NaN</td>\n",
       "      <td>Ergan</td>\n",
       "    </tr>\n",
       "    <tr>\n",
       "      <th>8</th>\n",
       "      <td>NaN</td>\n",
       "      <td>NaN</td>\n",
       "      <td>NaN</td>\n",
       "      <td>759</td>\n",
       "    </tr>\n",
       "    <tr>\n",
       "      <th>9</th>\n",
       "      <td>NaN</td>\n",
       "      <td>NaN</td>\n",
       "      <td>NaN</td>\n",
       "      <td>Anil</td>\n",
       "    </tr>\n",
       "    <tr>\n",
       "      <th>10</th>\n",
       "      <td>NaN</td>\n",
       "      <td>NaN</td>\n",
       "      <td>NaN</td>\n",
       "      <td>Ergan</td>\n",
       "    </tr>\n",
       "    <tr>\n",
       "      <th>11</th>\n",
       "      <td>NaN</td>\n",
       "      <td>NaN</td>\n",
       "      <td>NaN</td>\n",
       "      <td>759</td>\n",
       "    </tr>\n",
       "    <tr>\n",
       "      <th>12</th>\n",
       "      <td>NaN</td>\n",
       "      <td>NaN</td>\n",
       "      <td>NaN</td>\n",
       "      <td>Anil</td>\n",
       "    </tr>\n",
       "    <tr>\n",
       "      <th>13</th>\n",
       "      <td>NaN</td>\n",
       "      <td>NaN</td>\n",
       "      <td>NaN</td>\n",
       "      <td>Ergan</td>\n",
       "    </tr>\n",
       "    <tr>\n",
       "      <th>14</th>\n",
       "      <td>NaN</td>\n",
       "      <td>NaN</td>\n",
       "      <td>NaN</td>\n",
       "      <td>759</td>\n",
       "    </tr>\n",
       "  </tbody>\n",
       "</table>\n",
       "</div>"
      ],
      "text/plain": [
       "        Name    Surname Numara      0\n",
       "0      Osman       Irak    501    NaN\n",
       "1      Hamdi  Eskilesti    502    NaN\n",
       "2      Elmas   Koksalar    503    NaN\n",
       "3      Tanem     Ozturk    504    NaN\n",
       "4   Gül Peri     Bilgen    505    NaN\n",
       "5       Anil      Ergan    759    NaN\n",
       "6        NaN        NaN    NaN   Anil\n",
       "7        NaN        NaN    NaN  Ergan\n",
       "8        NaN        NaN    NaN    759\n",
       "9        NaN        NaN    NaN   Anil\n",
       "10       NaN        NaN    NaN  Ergan\n",
       "11       NaN        NaN    NaN    759\n",
       "12       NaN        NaN    NaN   Anil\n",
       "13       NaN        NaN    NaN  Ergan\n",
       "14       NaN        NaN    NaN    759"
      ]
     },
     "metadata": {},
     "output_type": "display_data"
    }
   ],
   "source": [
    "# Std5 = ['Anil', 'Ergan', '759']\n",
    "# dfStudents = dfStudents.append(Std5, ignore_index=True)\n",
    "display(dfStudents)"
   ]
  },
  {
   "cell_type": "code",
   "execution_count": 36,
   "metadata": {},
   "outputs": [
    {
     "data": {
      "text/html": [
       "<div>\n",
       "<style scoped>\n",
       "    .dataframe tbody tr th:only-of-type {\n",
       "        vertical-align: middle;\n",
       "    }\n",
       "\n",
       "    .dataframe tbody tr th {\n",
       "        vertical-align: top;\n",
       "    }\n",
       "\n",
       "    .dataframe thead th {\n",
       "        text-align: right;\n",
       "    }\n",
       "</style>\n",
       "<table border=\"1\" class=\"dataframe\">\n",
       "  <thead>\n",
       "    <tr style=\"text-align: right;\">\n",
       "      <th></th>\n",
       "      <th>Name</th>\n",
       "      <th>Maths</th>\n",
       "      <th>Science</th>\n",
       "    </tr>\n",
       "  </thead>\n",
       "  <tbody>\n",
       "    <tr>\n",
       "      <th>std1</th>\n",
       "      <td>Martha</td>\n",
       "      <td>87</td>\n",
       "      <td>83</td>\n",
       "    </tr>\n",
       "    <tr>\n",
       "      <th>std2</th>\n",
       "      <td>Tim</td>\n",
       "      <td>91</td>\n",
       "      <td>99</td>\n",
       "    </tr>\n",
       "    <tr>\n",
       "      <th>std3</th>\n",
       "      <td>Rob</td>\n",
       "      <td>97</td>\n",
       "      <td>84</td>\n",
       "    </tr>\n",
       "    <tr>\n",
       "      <th>std4</th>\n",
       "      <td>Georgia</td>\n",
       "      <td>95</td>\n",
       "      <td>76</td>\n",
       "    </tr>\n",
       "  </tbody>\n",
       "</table>\n",
       "</div>"
      ],
      "text/plain": [
       "         Name  Maths  Science\n",
       "std1   Martha     87       83\n",
       "std2      Tim     91       99\n",
       "std3      Rob     97       84\n",
       "std4  Georgia     95       76"
      ]
     },
     "execution_count": 36,
     "metadata": {},
     "output_type": "execute_result"
    }
   ],
   "source": [
    "dic = {'Name':['Martha', 'Tim', 'Rob', 'Georgia'],\n",
    "        'Maths':[87, 91, 97, 95],\n",
    "        'Science':[83, 99, 84, 76]\n",
    "       }\n",
    "\n",
    "df = pd.DataFrame(dic, index=['std1','std2','std3','std4'])\n",
    "df"
   ]
  },
  {
   "cell_type": "code",
   "execution_count": 46,
   "metadata": {},
   "outputs": [
    {
     "data": {
      "text/plain": [
       "['Yücel', 70, 75]"
      ]
     },
     "metadata": {},
     "output_type": "display_data"
    }
   ],
   "source": [
    "std6 = ['Yücel',70,75]\n",
    "display(std6)"
   ]
  },
  {
   "cell_type": "code",
   "execution_count": 66,
   "metadata": {},
   "outputs": [],
   "source": [
    "df.loc['std5'] = std6"
   ]
  },
  {
   "cell_type": "code",
   "execution_count": 67,
   "metadata": {},
   "outputs": [
    {
     "data": {
      "text/html": [
       "<div>\n",
       "<style scoped>\n",
       "    .dataframe tbody tr th:only-of-type {\n",
       "        vertical-align: middle;\n",
       "    }\n",
       "\n",
       "    .dataframe tbody tr th {\n",
       "        vertical-align: top;\n",
       "    }\n",
       "\n",
       "    .dataframe thead th {\n",
       "        text-align: right;\n",
       "    }\n",
       "</style>\n",
       "<table border=\"1\" class=\"dataframe\">\n",
       "  <thead>\n",
       "    <tr style=\"text-align: right;\">\n",
       "      <th></th>\n",
       "      <th>Name</th>\n",
       "      <th>Maths</th>\n",
       "      <th>Science</th>\n",
       "    </tr>\n",
       "  </thead>\n",
       "  <tbody>\n",
       "    <tr>\n",
       "      <th>std1</th>\n",
       "      <td>Martha</td>\n",
       "      <td>87</td>\n",
       "      <td>83</td>\n",
       "    </tr>\n",
       "    <tr>\n",
       "      <th>std2</th>\n",
       "      <td>Tim</td>\n",
       "      <td>91</td>\n",
       "      <td>99</td>\n",
       "    </tr>\n",
       "    <tr>\n",
       "      <th>std3</th>\n",
       "      <td>Rob</td>\n",
       "      <td>97</td>\n",
       "      <td>84</td>\n",
       "    </tr>\n",
       "    <tr>\n",
       "      <th>std4</th>\n",
       "      <td>Georgia</td>\n",
       "      <td>95</td>\n",
       "      <td>76</td>\n",
       "    </tr>\n",
       "    <tr>\n",
       "      <th>std5</th>\n",
       "      <td>Anil</td>\n",
       "      <td>99</td>\n",
       "      <td>90</td>\n",
       "    </tr>\n",
       "  </tbody>\n",
       "</table>\n",
       "</div>"
      ],
      "text/plain": [
       "         Name  Maths  Science\n",
       "std1   Martha     87       83\n",
       "std2      Tim     91       99\n",
       "std3      Rob     97       84\n",
       "std4  Georgia     95       76\n",
       "std5     Anil     99       90"
      ]
     },
     "execution_count": 67,
     "metadata": {},
     "output_type": "execute_result"
    }
   ],
   "source": [
    "df"
   ]
  },
  {
   "cell_type": "code",
   "execution_count": 65,
   "metadata": {},
   "outputs": [
    {
     "name": "stderr",
     "output_type": "stream",
     "text": [
      "C:\\Users\\anerg\\AppData\\Local\\Temp\\ipykernel_43244\\4017241023.py:6: FutureWarning: The frame.append method is deprecated and will be removed from pandas in a future version. Use pandas.concat instead.\n",
      "  df.append(std6)\n"
     ]
    },
    {
     "ename": "TypeError",
     "evalue": "Can only append a dict if ignore_index=True",
     "output_type": "error",
     "traceback": [
      "\u001b[1;31m---------------------------------------------------------------------------\u001b[0m",
      "\u001b[1;31mTypeError\u001b[0m                                 Traceback (most recent call last)",
      "Cell \u001b[1;32mIn [65], line 6\u001b[0m\n\u001b[0;32m      1\u001b[0m std6 \u001b[39m=\u001b[39m {\n\u001b[0;32m      2\u001b[0m     \u001b[39m'\u001b[39m\u001b[39mName\u001b[39m\u001b[39m'\u001b[39m: \u001b[39m'\u001b[39m\u001b[39mAnil\u001b[39m\u001b[39m'\u001b[39m,\n\u001b[0;32m      3\u001b[0m     \u001b[39m'\u001b[39m\u001b[39mMaths\u001b[39m\u001b[39m'\u001b[39m: \u001b[39m99\u001b[39m,\n\u001b[0;32m      4\u001b[0m     \u001b[39m'\u001b[39m\u001b[39mScience\u001b[39m\u001b[39m'\u001b[39m: \u001b[39m90\u001b[39m\n\u001b[0;32m      5\u001b[0m }\n\u001b[1;32m----> 6\u001b[0m df\u001b[39m.\u001b[39;49mappend(std6)\n",
      "File \u001b[1;32mc:\\Users\\anerg\\AppData\\Local\\Programs\\Python\\Python310\\lib\\site-packages\\pandas\\core\\frame.py:9045\u001b[0m, in \u001b[0;36mDataFrame.append\u001b[1;34m(self, other, ignore_index, verify_integrity, sort)\u001b[0m\n\u001b[0;32m   8942\u001b[0m \u001b[39m\"\"\"\u001b[39;00m\n\u001b[0;32m   8943\u001b[0m \u001b[39mAppend rows of `other` to the end of caller, returning a new object.\u001b[39;00m\n\u001b[0;32m   8944\u001b[0m \n\u001b[1;32m   (...)\u001b[0m\n\u001b[0;32m   9035\u001b[0m \u001b[39m4  4\u001b[39;00m\n\u001b[0;32m   9036\u001b[0m \u001b[39m\"\"\"\u001b[39;00m\n\u001b[0;32m   9037\u001b[0m warnings\u001b[39m.\u001b[39mwarn(\n\u001b[0;32m   9038\u001b[0m     \u001b[39m\"\u001b[39m\u001b[39mThe frame.append method is deprecated \u001b[39m\u001b[39m\"\u001b[39m\n\u001b[0;32m   9039\u001b[0m     \u001b[39m\"\u001b[39m\u001b[39mand will be removed from pandas in a future version. \u001b[39m\u001b[39m\"\u001b[39m\n\u001b[1;32m   (...)\u001b[0m\n\u001b[0;32m   9042\u001b[0m     stacklevel\u001b[39m=\u001b[39mfind_stack_level(),\n\u001b[0;32m   9043\u001b[0m )\n\u001b[1;32m-> 9045\u001b[0m \u001b[39mreturn\u001b[39;00m \u001b[39mself\u001b[39;49m\u001b[39m.\u001b[39;49m_append(other, ignore_index, verify_integrity, sort)\n",
      "File \u001b[1;32mc:\\Users\\anerg\\AppData\\Local\\Programs\\Python\\Python310\\lib\\site-packages\\pandas\\core\\frame.py:9058\u001b[0m, in \u001b[0;36mDataFrame._append\u001b[1;34m(self, other, ignore_index, verify_integrity, sort)\u001b[0m\n\u001b[0;32m   9056\u001b[0m \u001b[39mif\u001b[39;00m \u001b[39misinstance\u001b[39m(other, \u001b[39mdict\u001b[39m):\n\u001b[0;32m   9057\u001b[0m     \u001b[39mif\u001b[39;00m \u001b[39mnot\u001b[39;00m ignore_index:\n\u001b[1;32m-> 9058\u001b[0m         \u001b[39mraise\u001b[39;00m \u001b[39mTypeError\u001b[39;00m(\u001b[39m\"\u001b[39m\u001b[39mCan only append a dict if ignore_index=True\u001b[39m\u001b[39m\"\u001b[39m)\n\u001b[0;32m   9059\u001b[0m     other \u001b[39m=\u001b[39m Series(other)\n\u001b[0;32m   9060\u001b[0m \u001b[39mif\u001b[39;00m other\u001b[39m.\u001b[39mname \u001b[39mis\u001b[39;00m \u001b[39mNone\u001b[39;00m \u001b[39mand\u001b[39;00m \u001b[39mnot\u001b[39;00m ignore_index:\n",
      "\u001b[1;31mTypeError\u001b[0m: Can only append a dict if ignore_index=True"
     ]
    }
   ],
   "source": []
  },
  {
   "cell_type": "code",
   "execution_count": 11,
   "metadata": {},
   "outputs": [
    {
     "name": "stdout",
     "output_type": "stream",
     "text": [
      "basti\n"
     ]
    }
   ],
   "source": [
    "class newClass:\n",
    "    def __init__(self):\n",
    "        self.bastir()\n",
    "    def bastir(self):\n",
    "        print('basti')\n",
    "\n",
    "new = newClass()\n"
   ]
  },
  {
   "cell_type": "code",
   "execution_count": 17,
   "metadata": {},
   "outputs": [
    {
     "data": {
      "text/plain": [
       "False"
      ]
     },
     "execution_count": 17,
     "metadata": {},
     "output_type": "execute_result"
    }
   ],
   "source": [
    "result = ''\n",
    "result.isalpha()"
   ]
  },
  {
   "cell_type": "code",
   "execution_count": 20,
   "metadata": {},
   "outputs": [
    {
     "data": {
      "text/plain": [
       "30"
      ]
     },
     "execution_count": 20,
     "metadata": {},
     "output_type": "execute_result"
    }
   ],
   "source": [
    "xLambda = lambda x: x+10\n",
    "xLambda(10)\n",
    "xLambda(20)\n"
   ]
  },
  {
   "cell_type": "code",
   "execution_count": 19,
   "metadata": {},
   "outputs": [
    {
     "data": {
      "text/plain": [
       "20"
      ]
     },
     "execution_count": 19,
     "metadata": {},
     "output_type": "execute_result"
    }
   ],
   "source": [
    "def xFunc(x):\n",
    "    return x + 10\n",
    "\n"
   ]
  },
  {
   "cell_type": "code",
   "execution_count": 23,
   "metadata": {},
   "outputs": [
    {
     "name": "stdout",
     "output_type": "stream",
     "text": [
      "out\n",
      "inner\n"
     ]
    }
   ],
   "source": [
    "class funcs:\n",
    "    def inner(self):\n",
    "\n",
    "        print('inner')\n",
    "    def __init__(self):\n",
    "        print('out')\n",
    "        self.inner()\n",
    "fun1 = funcs()"
   ]
  },
  {
   "cell_type": "code",
   "execution_count": 3,
   "metadata": {},
   "outputs": [
    {
     "name": "stdout",
     "output_type": "stream",
     "text": [
      "merhaba ben x 10\n",
      "merhaba ben y 20\n"
     ]
    },
    {
     "ename": "TypeError",
     "evalue": "islemler.toplam() missing 1 required positional argument: 'y'",
     "output_type": "error",
     "traceback": [
      "\u001b[1;31m---------------------------------------------------------------------------\u001b[0m",
      "\u001b[1;31mTypeError\u001b[0m                                 Traceback (most recent call last)",
      "Cell \u001b[1;32mIn [3], line 17\u001b[0m\n\u001b[0;32m     14\u001b[0m         \u001b[39mself\u001b[39m\u001b[39m.\u001b[39my \u001b[39m=\u001b[39m y\n\u001b[0;32m     15\u001b[0m         \u001b[39mreturn\u001b[39;00m \u001b[39mself\u001b[39m\u001b[39m.\u001b[39mx \u001b[39m+\u001b[39m \u001b[39mself\u001b[39m\u001b[39m.\u001b[39my\n\u001b[1;32m---> 17\u001b[0m yazi \u001b[39m=\u001b[39m yazilar(\u001b[39m10\u001b[39;49m,\u001b[39m20\u001b[39;49m)\n",
      "Cell \u001b[1;32mIn [3], line 7\u001b[0m, in \u001b[0;36myazilar.__init__\u001b[1;34m(self, x, y)\u001b[0m\n\u001b[0;32m      5\u001b[0m \u001b[39mprint\u001b[39m(\u001b[39m'\u001b[39m\u001b[39mmerhaba ben x\u001b[39m\u001b[39m'\u001b[39m, \u001b[39mself\u001b[39m\u001b[39m.\u001b[39mx)\n\u001b[0;32m      6\u001b[0m \u001b[39mprint\u001b[39m(\u001b[39m'\u001b[39m\u001b[39mmerhaba ben y\u001b[39m\u001b[39m'\u001b[39m, \u001b[39mself\u001b[39m\u001b[39m.\u001b[39my)\n\u001b[1;32m----> 7\u001b[0m islemler\u001b[39m.\u001b[39;49mtoplam(\u001b[39mself\u001b[39;49m\u001b[39m.\u001b[39;49mx, \u001b[39mself\u001b[39;49m\u001b[39m.\u001b[39;49my)\n",
      "\u001b[1;31mTypeError\u001b[0m: islemler.toplam() missing 1 required positional argument: 'y'"
     ]
    }
   ],
   "source": [
    "    \n",
    "class islemler:\n",
    "    def toplam(self,x,y):\n",
    "        self.x = x\n",
    "        self.y = y\n",
    "        return self.x + self.y\n",
    "\n",
    "\n",
    "\n",
    "class yazilar(islemler):\n",
    "    def __init__(self,x,y):\n",
    "        self.x = x\n",
    "        self.y = y\n",
    "        print('merhaba ben x', self.x)\n",
    "        print('merhaba ben y', self.y)\n",
    "    super().toplam()\n",
    "\n",
    "yazi = yazilar(10,20)"
   ]
  },
  {
   "cell_type": "code",
   "execution_count": 7,
   "metadata": {},
   "outputs": [
    {
     "name": "stdout",
     "output_type": "stream",
     "text": [
      "123\n"
     ]
    }
   ],
   "source": [
    "class gizli:\n",
    "    def __init__(self,password):\n",
    "        self.__parola = password\n",
    "    def reachParola(self):\n",
    "        return self.__parola\n",
    "\n",
    "anil = gizli('123')\n",
    "\n",
    "\n"
   ]
  },
  {
   "cell_type": "code",
   "execution_count": null,
   "metadata": {},
   "outputs": [],
   "source": [
    "class Main:\n",
    "    def __init__(self):\n",
    "        print('Merhaba', get_name())"
   ]
  },
  {
   "cell_type": "code",
   "execution_count": 14,
   "metadata": {},
   "outputs": [],
   "source": [
    "class Account:\n",
    "    def __init__(self,name,surname,password):\n",
    "        self.__name = name\n",
    "        self.__surname = surname\n",
    "        self.__password = password\n",
    "\n",
    "    def get_name(self):\n",
    "        return self.__name \n",
    "\n",
    "    def get_surname(self):\n",
    "        return self.__surname\n",
    "\n",
    "    def get_password(self):\n",
    "        return self.__password   \n",
    "\n"
   ]
  },
  {
   "cell_type": "code",
   "execution_count": 21,
   "metadata": {},
   "outputs": [
    {
     "ename": "AttributeError",
     "evalue": "'Main' object has no attribute 'newPerson'",
     "output_type": "error",
     "traceback": [
      "\u001b[1;31m---------------------------------------------------------------------------\u001b[0m",
      "\u001b[1;31mAttributeError\u001b[0m                            Traceback (most recent call last)",
      "Cell \u001b[1;32mIn [21], line 24\u001b[0m\n\u001b[0;32m     21\u001b[0m         df \u001b[39m=\u001b[39m pd\u001b[39m.\u001b[39mDataFrame(newDict)\n\u001b[0;32m     22\u001b[0m         \u001b[39mprint\u001b[39m(df)\n\u001b[1;32m---> 24\u001b[0m yeni \u001b[39m=\u001b[39m Main()\n",
      "Cell \u001b[1;32mIn [21], line 20\u001b[0m, in \u001b[0;36mMain.__init__\u001b[1;34m(self)\u001b[0m\n\u001b[0;32m     18\u001b[0m \u001b[39mdef\u001b[39;00m \u001b[39m__init__\u001b[39m(\u001b[39mself\u001b[39m):\n\u001b[0;32m     19\u001b[0m     newPerson \u001b[39m=\u001b[39m Person(\u001b[39m'\u001b[39m\u001b[39mAnil\u001b[39m\u001b[39m'\u001b[39m, \u001b[39m'\u001b[39m\u001b[39mErgan\u001b[39m\u001b[39m'\u001b[39m, Address(\u001b[39m'\u001b[39m\u001b[39mIstanbul\u001b[39m\u001b[39m'\u001b[39m, \u001b[39m'\u001b[39m\u001b[39mTurkey\u001b[39m\u001b[39m'\u001b[39m))\n\u001b[1;32m---> 20\u001b[0m     newDict \u001b[39m=\u001b[39m \u001b[39mself\u001b[39;49m\u001b[39m.\u001b[39;49mnewPerson\u001b[39m.\u001b[39m\u001b[39m__dict__\u001b[39m\n\u001b[0;32m     21\u001b[0m     df \u001b[39m=\u001b[39m pd\u001b[39m.\u001b[39mDataFrame(newDict)\n\u001b[0;32m     22\u001b[0m     \u001b[39mprint\u001b[39m(df)\n",
      "\u001b[1;31mAttributeError\u001b[0m: 'Main' object has no attribute 'newPerson'"
     ]
    }
   ],
   "source": [
    "import pandas as pd\n",
    "    \n",
    "\n",
    "class Address:\n",
    "    def __init__(self,city,country):\n",
    "        self.__city = city\n",
    "        self.__country = country\n",
    "\n",
    "\n",
    "\n",
    "class Person:\n",
    "    def __init__(self, name, surname, address):\n",
    "        self.__name = name\n",
    "        self.__surname = surname #ben ekledim\n",
    "        self.__address = address\n",
    "\n",
    "class Main:\n",
    "    def __init__(self, ):\n",
    "        newPerson = Person('Anil', 'Ergan', Address('Istanbul', 'Turkey'))\n",
    "        newDict = self.newPerson.__dict__\n",
    "        df = pd.DataFrame(newDict)\n",
    "        print(df)\n",
    "\n",
    "yeni = Main()\n"
   ]
  },
  {
   "cell_type": "code",
   "execution_count": 22,
   "metadata": {},
   "outputs": [
    {
     "name": "stdout",
     "output_type": "stream",
     "text": [
      "(10, 20)\n"
     ]
    }
   ],
   "source": [
    "def func(x,y):\n",
    "    return x,y\n",
    "\n",
    "print(func(10,20))\n"
   ]
  },
  {
   "cell_type": "code",
   "execution_count": 34,
   "metadata": {},
   "outputs": [
    {
     "ename": "AttributeError",
     "evalue": "type object 'myClass' has no attribute 'a'",
     "output_type": "error",
     "traceback": [
      "\u001b[1;31m---------------------------------------------------------------------------\u001b[0m",
      "\u001b[1;31mAttributeError\u001b[0m                            Traceback (most recent call last)",
      "Cell \u001b[1;32mIn [34], line 7\u001b[0m\n\u001b[0;32m      3\u001b[0m         a \u001b[39m=\u001b[39m \u001b[39m10\u001b[39m\n\u001b[0;32m      6\u001b[0m new \u001b[39m=\u001b[39m myClass\n\u001b[1;32m----> 7\u001b[0m \u001b[39mprint\u001b[39m(new\u001b[39m.\u001b[39;49ma)\n",
      "\u001b[1;31mAttributeError\u001b[0m: type object 'myClass' has no attribute 'a'"
     ]
    }
   ],
   "source": [
    "class myClass:\n",
    "    def __init__(self):\n",
    "        a = 10\n",
    "\n",
    "        \n",
    "new = myClass\n",
    "print(new.a)"
   ]
  },
  {
   "cell_type": "code",
   "execution_count": 39,
   "metadata": {},
   "outputs": [
    {
     "ename": "RuntimeError",
     "evalue": "super(): no arguments",
     "output_type": "error",
     "traceback": [
      "\u001b[1;31m---------------------------------------------------------------------------\u001b[0m",
      "\u001b[1;31mRuntimeError\u001b[0m                              Traceback (most recent call last)",
      "Cell \u001b[1;32mIn [39], line 6\u001b[0m\n\u001b[0;32m      3\u001b[0m         x \u001b[39m=\u001b[39m \u001b[39m10\u001b[39m\n\u001b[0;32m      4\u001b[0m         y \u001b[39m=\u001b[39m \u001b[39m20\u001b[39m\n\u001b[1;32m----> 6\u001b[0m \u001b[39mclass\u001b[39;00m \u001b[39mchild\u001b[39;00m(parent):\n\u001b[0;32m      7\u001b[0m       child_x \u001b[39m=\u001b[39m \u001b[39msuper\u001b[39m()\u001b[39m.\u001b[39mx\n\u001b[0;32m      9\u001b[0m newc \u001b[39m=\u001b[39m child()\n",
      "Cell \u001b[1;32mIn [39], line 7\u001b[0m, in \u001b[0;36mchild\u001b[1;34m()\u001b[0m\n\u001b[0;32m      6\u001b[0m \u001b[39mclass\u001b[39;00m \u001b[39mchild\u001b[39;00m(parent):\n\u001b[1;32m----> 7\u001b[0m       child_x \u001b[39m=\u001b[39m \u001b[39msuper\u001b[39;49m()\u001b[39m.\u001b[39mx\n",
      "\u001b[1;31mRuntimeError\u001b[0m: super(): no arguments"
     ]
    }
   ],
   "source": [
    "class parent:\n",
    "    def __init__(self):\n",
    "        x = 10\n",
    "        y = 20\n",
    "\n",
    "class child(parent):\n",
    "      child_x = super().x\n",
    "\n",
    "newc = child()\n",
    "newc.child_x"
   ]
  },
  {
   "cell_type": "code",
   "execution_count": 1,
   "metadata": {},
   "outputs": [
    {
     "name": "stdout",
     "output_type": "stream",
     "text": [
      "Marvin\n"
     ]
    }
   ],
   "source": []
  },
  {
   "cell_type": "code",
   "execution_count": 6,
   "metadata": {},
   "outputs": [
    {
     "name": "stdout",
     "output_type": "stream",
     "text": [
      "   name surname number\n",
      "0  anil   ergan    666\n"
     ]
    }
   ],
   "source": [
    "import pandas as pd\n",
    "liste = ['anil', 'ergan', '666']\n",
    "\n",
    "df = pd.DataFrame( columns=['name', 'surname', 'number'])\n",
    "\n",
    "df.loc[len(df)] = liste\n",
    "print(df)"
   ]
  }
 ],
 "metadata": {
  "kernelspec": {
   "display_name": "Python 3",
   "language": "python",
   "name": "python3"
  },
  "language_info": {
   "codemirror_mode": {
    "name": "ipython",
    "version": 3
   },
   "file_extension": ".py",
   "mimetype": "text/x-python",
   "name": "python",
   "nbconvert_exporter": "python",
   "pygments_lexer": "ipython3",
   "version": "3.10.5 (tags/v3.10.5:f377153, Jun  6 2022, 16:14:13) [MSC v.1929 64 bit (AMD64)]"
  },
  "orig_nbformat": 4,
  "vscode": {
   "interpreter": {
    "hash": "5403a196476c0ad0ccf05bfceb7621612fed21267bbdb50228bbfb603cea73d6"
   }
  }
 },
 "nbformat": 4,
 "nbformat_minor": 2
}
