{
 "cells": [
  {
   "cell_type": "code",
   "execution_count": 1,
   "metadata": {},
   "outputs": [
    {
     "name": "stdout",
     "output_type": "stream",
     "text": [
      "Marvin\n"
     ]
    }
   ],
   "source": [
    "class RobotA:\n",
    "    pass\n",
    "\n",
    "x = RobotA()\n",
    "x.name = 'Marvin'\n",
    "\n",
    "print(x.name)"
   ]
  },
  {
   "cell_type": "code",
   "execution_count": 3,
   "metadata": {},
   "outputs": [
    {
     "name": "stdout",
     "output_type": "stream",
     "text": [
      "Osman\n"
     ]
    }
   ],
   "source": [
    "class RobotB:\n",
    "    def __init__(self, name):\n",
    "        self.name = name\n",
    "\n",
    "y = RobotB('Osman')\n",
    "\n",
    "print(y.name)"
   ]
  },
  {
   "cell_type": "code",
   "execution_count": 9,
   "metadata": {},
   "outputs": [
    {
     "name": "stdout",
     "output_type": "stream",
     "text": [
      "Merhaba Anil Ergan\n"
     ]
    }
   ],
   "source": [
    "class Insan:\n",
    "    def __init__ (self, isim, soyisim):\n",
    "        self.isim = isim\n",
    "        self.soyisim = soyisim\n",
    "        self.Selamla()\n",
    "    \n",
    "    def Selamla(self):\n",
    "        print('Merhaba', self.isim, self.soyisim)\n",
    "\n",
    "kisi1 = Insan('Anil', 'Ergan')\n"
   ]
  },
  {
   "cell_type": "code",
   "execution_count": 17,
   "metadata": {},
   "outputs": [
    {
     "ename": "TypeError",
     "evalue": "descriptor '__init__' requires a 'super' object but received a 'Programmer'",
     "output_type": "error",
     "traceback": [
      "\u001b[1;31m---------------------------------------------------------------------------\u001b[0m",
      "\u001b[1;31mTypeError\u001b[0m                                 Traceback (most recent call last)",
      "Cell \u001b[1;32mIn [17], line 10\u001b[0m\n\u001b[0;32m      7\u001b[0m         \u001b[39mprint\u001b[39m(\u001b[39mself\u001b[39m\u001b[39m.\u001b[39mdil, \u001b[39m'\u001b[39m\u001b[39mdilini bilen programci tanimlandi\u001b[39m\u001b[39m'\u001b[39m)\n\u001b[0;32m      8\u001b[0m         \u001b[39mprint\u001b[39m(\u001b[39m'\u001b[39m\u001b[39mprogramcinin adi:\u001b[39m\u001b[39m'\u001b[39m, Insan\u001b[39m.\u001b[39misim, Insan\u001b[39m.\u001b[39msoyisim)\n\u001b[1;32m---> 10\u001b[0m p \u001b[39m=\u001b[39m Programmer(bildigi_dil\u001b[39m=\u001b[39;49m\u001b[39m'\u001b[39;49m\u001b[39mjava\u001b[39;49m\u001b[39m'\u001b[39;49m)\n",
      "Cell \u001b[1;32mIn [17], line 3\u001b[0m, in \u001b[0;36mProgrammer.__init__\u001b[1;34m(self, bildigi_dil)\u001b[0m\n\u001b[0;32m      2\u001b[0m \u001b[39mdef\u001b[39;00m \u001b[39m__init__\u001b[39m (\u001b[39mself\u001b[39m, bildigi_dil):\n\u001b[1;32m----> 3\u001b[0m     \u001b[39msuper\u001b[39;49m\u001b[39m.\u001b[39;49m\u001b[39m__init__\u001b[39;49m(\u001b[39mself\u001b[39;49m)\n\u001b[0;32m      4\u001b[0m     \u001b[39mself\u001b[39m\u001b[39m.\u001b[39mdil \u001b[39m=\u001b[39m bildigi_dil\n\u001b[0;32m      5\u001b[0m     \u001b[39mself\u001b[39m\u001b[39m.\u001b[39mtanimla()\n",
      "\u001b[1;31mTypeError\u001b[0m: descriptor '__init__' requires a 'super' object but received a 'Programmer'"
     ]
    }
   ],
   "source": [
    "class Programmer(Insan):\n",
    "    def __init__ (self, bildigi_dil):\n",
    "        super.__init__(self)\n",
    "        self.dil = bildigi_dil\n",
    "        self.tanimla()\n",
    "    def tanimla(self):\n",
    "        print(self.dil, 'dilini bilen programci tanimlandi')\n",
    "        print('programcinin adi:', Insan.isim, Insan.soyisim)\n",
    "\n",
    "p = Programmer(bildigi_dil='java')\n"
   ]
  },
  {
   "cell_type": "code",
   "execution_count": 29,
   "metadata": {},
   "outputs": [
    {
     "data": {
      "text/plain": [
       "10"
      ]
     },
     "execution_count": 29,
     "metadata": {},
     "output_type": "execute_result"
    }
   ],
   "source": [
    "class Person:\n",
    "    def __init__(self):\n",
    "        self.x = 10\n",
    "\n",
    "    \n",
    "p = Person()\n",
    "p.x\n",
    "\n"
   ]
  },
  {
   "cell_type": "code",
   "execution_count": 31,
   "metadata": {},
   "outputs": [
    {
     "data": {
      "text/plain": [
       "False"
      ]
     },
     "execution_count": 31,
     "metadata": {},
     "output_type": "execute_result"
    }
   ],
   "source": [
    "text = 'ani2l'\n",
    "text.isalpha()"
   ]
  },
  {
   "cell_type": "code",
   "execution_count": 8,
   "metadata": {},
   "outputs": [],
   "source": [
    "    \n",
    "\n",
    "class Person():\n",
    "    def __init__(self):\n",
    "        self.get_name()\n",
    "    \n",
    "    def get_name(self):\n",
    "        return 'hata'\n",
    "\n",
    "\n",
    "# class Main(Person):\n",
    "#     def __init__(self):\n",
    "#         self.get_name = input('name:')\n",
    "#         print(self.get_name)\n",
    "# m = Main()\n",
    "\n",
    "a = Person()"
   ]
  },
  {
   "cell_type": "code",
   "execution_count": 57,
   "metadata": {},
   "outputs": [
    {
     "name": "stdout",
     "output_type": "stream",
     "text": [
      "     std_name std_surname  std_number\n",
      "std1    Osman        Okcu         244\n",
      "std2    Faruk       Cimri         225\n",
      "std3    Kemal       Kilic         266\n",
      "std4   Hatice         Sen         371\n",
      "std5   Firuze         Pek         300\n",
      "std6      Oya       Yalin         267\n",
      "std7      Ali       Pamuk         189\n",
      "True\n",
      "     std_name  std_number\n",
      "std2    Faruk         225\n",
      "o kisi: Faruk \n",
      "o kisinin nosu: 225\n"
     ]
    }
   ],
   "source": [
    "import pandas as pd\n",
    "\n",
    "dic = {\n",
    "    'std_name' : ['Osman', 'Faruk', 'Kemal', 'Hatice', 'Firuze', 'Oya', 'Ali'],\n",
    "    'std_surname': ['Okcu', 'Cimri', 'Kilic', 'Sen', 'Pek', 'Yalin', 'Pamuk'],\n",
    "    'std_number': [244, 225, 266, 371, 300, 267, 189]\n",
    "}\n",
    "\n",
    "df = pd.DataFrame(dic, index=['std1', 'std2', 'std3', 'std4', 'std5', 'std6', 'std7'])\n",
    "print(df)\n",
    "\n",
    "check = df.isin(['Osman']).any().any()\n",
    "print(check)\n",
    "x = 'Cimri'\n",
    "dff = df[df['std_surname']==x][['std_name','std_number']]\n",
    "print(dff)\n",
    "the_one = dff.iat[0,0]\n",
    "the_one_number = dff.iat[0,1]\n",
    "\n",
    "print('o kisi:', the_one, '\\no kisinin nosu:', the_one_number)\n",
    "# giriş yapa bastı\n",
    "\n",
    "# giriş yaptığı maili bir değişkende tut\n",
    "\n",
    "#database\n",
    "# database'i dataframe dönüştür \n",
    "# check = df.isin(['kullanicimaili']).any().any()\n",
    "# giriş yaptığı mail'i maile sahip person'in parolasını iste\n",
    "\n",
    "# parolasını içerek dataframe'i .iat([0,0]) ile değişkene dönüştür\n",
    "\n",
    "# bu değişkeni kullanicinin girdiği parola ile karşılaştır, \n",
    "# eşitse sayfaya yönlendir, değilse hata döndür\n"
   ]
  },
  {
   "cell_type": "code",
   "execution_count": 7,
   "metadata": {},
   "outputs": [
    {
     "name": "stdout",
     "output_type": "stream",
     "text": [
      "2023-02-02 22:31:45.801217\n",
      "02 February\n",
      "1900-01-01 23:15:00\n",
      "1900-01-01 00:44:00\n"
     ]
    }
   ],
   "source": [
    "from datetime import datetime, timedelta\n",
    "\n",
    "now = datetime.now()\n",
    "print(now)\n",
    "print(now.strftime(r'%d %B'))\n",
    "#string\n",
    "\n",
    "\n",
    "#strftime = time -> str\n",
    "#strptime = str -> time \n",
    "\n",
    "dep_time = '23:15'\n",
    "dep_time_time = datetime.strptime(dep_time, '%H:%M')\n",
    "print(dep_time_time)\n",
    "\n",
    "now_time_delta = timedelta(hours=now.hour, minutes=now.minute)\n",
    "dep_time_delta = timedelta(hours=dep_time_time.hour, minutes=dep_time_time.minute)\n",
    "\n",
    "time_toflight = dep_time_time - now_time_delta\n",
    "print(time_toflight)\n",
    "\n",
    "\n",
    "\n",
    "\n",
    "\n"
   ]
  },
  {
   "cell_type": "code",
   "execution_count": 9,
   "metadata": {},
   "outputs": [
    {
     "name": "stdout",
     "output_type": "stream",
     "text": [
      "1899-12-31 02:44:00\n"
     ]
    }
   ],
   "source": [
    "dep_time = '01:15'\n",
    "dep_time_time = datetime.strptime(dep_time, '%H:%M')\n",
    "\n",
    "now_time_delta = timedelta(hours=now.hour, minutes=now.minute)\n",
    "dep_time_delta = timedelta(hours=dep_time_time.hour, minutes=dep_time_time.minute)\n",
    "\n",
    "time_toflight = dep_time_time - now_time_delta\n",
    "print(time_toflight)\n",
    "\n",
    "\n"
   ]
  },
  {
   "cell_type": "code",
   "execution_count": 29,
   "metadata": {},
   "outputs": [
    {
     "name": "stdout",
     "output_type": "stream",
     "text": [
      "2023-02-02 00:00:00\n",
      "-1 day, 0:44:32.025767\n",
      "-1\n",
      "<class 'int'>\n",
      "2023-02-01 16:30:00\n"
     ]
    }
   ],
   "source": [
    "my_date = '02 February 2023'\n",
    "my_date = datetime.strptime(my_date, r'%d %B %Y')\n",
    "print(my_date)\n",
    "\n",
    "now = datetime.now()\n",
    "\n",
    "minus = my_date - now\n",
    "print(minus)\n",
    "print(minus.days)\n",
    "\n",
    "year = now.year\n",
    "print(type(year))\n",
    "\n"
   ]
  },
  {
   "cell_type": "code",
   "execution_count": 51,
   "metadata": {},
   "outputs": [
    {
     "name": "stdout",
     "output_type": "stream",
     "text": [
      "2023-02-01 23:40:00\n",
      "23:35:27.974233\n",
      "<class 'datetime.timedelta'>\n",
      "*******\n",
      "40\n",
      "1420\n"
     ]
    }
   ],
   "source": [
    "departure = '23:40, 01 February 2023'\n",
    "departure_strp = datetime.strptime(departure, r\"%H:%M, %d %B %Y\")\n",
    "\n",
    "minus = now - departure_strp \n",
    "print(departure_strp)\n",
    "print(minus)\n",
    "print(type(minus))\n",
    "\n",
    "day_to_min = (departure_strp.day -1) * 24 * 60\n",
    "hours_to_min = departure_strp.hour * 60\n",
    "\n",
    "print('*******')\n",
    "print(departure_strp.minute)\n",
    "\n",
    "total_minute = day_to_min + hours_to_min + departure_strp.minute\n",
    "print(total_minute)"
   ]
  },
  {
   "cell_type": "code",
   "execution_count": 33,
   "metadata": {},
   "outputs": [
    {
     "name": "stdout",
     "output_type": "stream",
     "text": [
      "çıkarma basarili\n",
      "1080.0\n"
     ]
    }
   ],
   "source": [
    "from datetime import datetime, timedelta\n",
    "\n",
    "date1 = '25 February 2023, 15:30'\n",
    "date2 = '26 February 2023, 09:30'\n",
    "\n",
    "date1 = datetime.strptime(date1, r'%d %B %Y, %H:%M')\n",
    "date2 = datetime.strptime(date2, r'%d %B %Y, %H:%M')\n",
    "\n",
    "check = date2 - date1\n",
    "if date2 > date1:\n",
    "    print('çıkarma basarili')\n",
    "m = check.seconds / 60 + check.days * 24 * 60\n",
    "print(m)"
   ]
  },
  {
   "cell_type": "code",
   "execution_count": 96,
   "metadata": {},
   "outputs": [
    {
     "name": "stdout",
     "output_type": "stream",
     "text": [
      "20:48:33.699285\n",
      "uçuşa bir günden az var\n"
     ]
    }
   ],
   "source": [
    "now = datetime.now()\n",
    "flight = '17:45, 04 Feb 2023'\n",
    "duration = '1 hours 30 minutes'\n",
    "\n",
    "# now_strp = datetime.strptime(now, r'%H:%M, %d %b %Y')\n",
    "flight_strp = datetime.strptime(flight, r'%H:%M, %d %b %Y')\n",
    "duration_strp = datetime.strptime(duration, '%H hours %M minutes')\n",
    "\n",
    "# now_delta = timedelta(hours = now_strp.hour, minutes = now_strp.minute)\n",
    "\n",
    "flight_delta = timedelta(hours= flight_strp.hour, minutes = flight_strp.minute)\n",
    "\n",
    "duration_delta = timedelta(hours = duration_strp.hour, minutes = duration_strp.minute)\n",
    "\n",
    "time_in_air = 0\n",
    "\n",
    "#flight'a ne kadar zaman var?\n",
    "print(flight_strp - now)\n",
    "if (flight_strp - now) < timedelta(days = 1):\n",
    "    print('uçuşa bir günden az var')\n",
    "else: \n",
    "    print('uçuşa bir günden çok var')\n",
    "\n",
    "#time after landing\n",
    "time_after_landing = now - (flight_strp + duration_delta)\n",
    "check = time_after_landing > timedelta(hours = 1)\n",
    "\n"
   ]
  },
  {
   "cell_type": "code",
   "execution_count": 72,
   "metadata": {},
   "outputs": [
    {
     "name": "stdout",
     "output_type": "stream",
     "text": [
      "-1 day, 14:00:00\n",
      "17:25, Friday\n",
      "1900-01-01 17:25:00\n"
     ]
    }
   ],
   "source": [
    "flight = '22:45, Friday'\n",
    "flight_strp = datetime.strptime(flight, r'%H:%M, %A')\n",
    "\n",
    "time = '12:45, Saturday'\n",
    "time_strp = datetime.strptime(time, r'%H:%M, %A')\n",
    "\n",
    "print(time_strp - flight_strp)\n",
    "\n",
    "now_strf = now.strftime(r'%H:%M, %A')\n",
    "print(now_strf)\n",
    "now_strp = datetime.strptime(now_strf, r'%H:%M, %A')\n",
    "print(now_strp - )\n",
    "\n",
    "while now + timedelta(da)"
   ]
  },
  {
   "cell_type": "code",
   "execution_count": 80,
   "metadata": {},
   "outputs": [
    {
     "name": "stdout",
     "output_type": "stream",
     "text": [
      "2023-02-03 17:25:53.979824\n",
      "2023-02-10 17:25:53.979824\n"
     ]
    }
   ],
   "source": [
    "print(now)\n",
    "seven_day = timedelta(days = 7)\n",
    "seven_after = now + seven_day \n",
    "print(seven_after)"
   ]
  },
  {
   "cell_type": "code",
   "execution_count": 87,
   "metadata": {},
   "outputs": [
    {
     "name": "stdout",
     "output_type": "stream",
     "text": [
      "2023-03-23 00:00:00\n"
     ]
    }
   ],
   "source": [
    "mon_orign = '02/01/2023'\n",
    "\n",
    "mon_orign_strp = datetime.strptime(mon_orign, r'%m/%d/%Y')\n",
    "\n",
    "print(mon_orign_strp + timedelta(days = 50))"
   ]
  },
  {
   "cell_type": "code",
   "execution_count": 89,
   "metadata": {},
   "outputs": [
    {
     "name": "stdout",
     "output_type": "stream",
     "text": [
      "17\n",
      "24\n",
      "31\n",
      "38\n",
      "45\n",
      "52\n"
     ]
    }
   ],
   "source": [
    "baslangic = 10\n",
    "artis = 7\n",
    "\n",
    "son = 46\n",
    "\n",
    "while baslangic < son:\n",
    "    baslangic += artis\n",
    "    print(baslangic)"
   ]
  }
 ],
 "metadata": {
  "kernelspec": {
   "display_name": "Python 3",
   "language": "python",
   "name": "python3"
  },
  "language_info": {
   "codemirror_mode": {
    "name": "ipython",
    "version": 3
   },
   "file_extension": ".py",
   "mimetype": "text/x-python",
   "name": "python",
   "nbconvert_exporter": "python",
   "pygments_lexer": "ipython3",
   "version": "3.10.5"
  },
  "orig_nbformat": 4,
  "vscode": {
   "interpreter": {
    "hash": "5403a196476c0ad0ccf05bfceb7621612fed21267bbdb50228bbfb603cea73d6"
   }
  }
 },
 "nbformat": 4,
 "nbformat_minor": 2
}
