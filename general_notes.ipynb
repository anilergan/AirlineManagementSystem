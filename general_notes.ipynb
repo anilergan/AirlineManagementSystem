{
 "cells": [
  {
   "cell_type": "code",
   "execution_count": 1,
   "metadata": {},
   "outputs": [
    {
     "name": "stdout",
     "output_type": "stream",
     "text": [
      "Marvin\n"
     ]
    }
   ],
   "source": [
    "class RobotA:\n",
    "    pass\n",
    "\n",
    "x = RobotA()\n",
    "x.name = 'Marvin'\n",
    "\n",
    "print(x.name)"
   ]
  },
  {
   "cell_type": "code",
   "execution_count": 3,
   "metadata": {},
   "outputs": [
    {
     "name": "stdout",
     "output_type": "stream",
     "text": [
      "Osman\n"
     ]
    }
   ],
   "source": [
    "class RobotB:\n",
    "    def __init__(self, name):\n",
    "        self.name = name\n",
    "\n",
    "y = RobotB('Osman')\n",
    "\n",
    "print(y.name)"
   ]
  },
  {
   "cell_type": "code",
   "execution_count": 9,
   "metadata": {},
   "outputs": [
    {
     "name": "stdout",
     "output_type": "stream",
     "text": [
      "Merhaba Anil Ergan\n"
     ]
    }
   ],
   "source": [
    "class Insan:\n",
    "    def __init__ (self, isim, soyisim):\n",
    "        self.isim = isim\n",
    "        self.soyisim = soyisim\n",
    "        self.Selamla()\n",
    "    \n",
    "    def Selamla(self):\n",
    "        print('Merhaba', self.isim, self.soyisim)\n",
    "\n",
    "kisi1 = Insan('Anil', 'Ergan')\n"
   ]
  },
  {
   "cell_type": "code",
   "execution_count": 17,
   "metadata": {},
   "outputs": [
    {
     "ename": "TypeError",
     "evalue": "descriptor '__init__' requires a 'super' object but received a 'Programmer'",
     "output_type": "error",
     "traceback": [
      "\u001b[1;31m---------------------------------------------------------------------------\u001b[0m",
      "\u001b[1;31mTypeError\u001b[0m                                 Traceback (most recent call last)",
      "Cell \u001b[1;32mIn [17], line 10\u001b[0m\n\u001b[0;32m      7\u001b[0m         \u001b[39mprint\u001b[39m(\u001b[39mself\u001b[39m\u001b[39m.\u001b[39mdil, \u001b[39m'\u001b[39m\u001b[39mdilini bilen programci tanimlandi\u001b[39m\u001b[39m'\u001b[39m)\n\u001b[0;32m      8\u001b[0m         \u001b[39mprint\u001b[39m(\u001b[39m'\u001b[39m\u001b[39mprogramcinin adi:\u001b[39m\u001b[39m'\u001b[39m, Insan\u001b[39m.\u001b[39misim, Insan\u001b[39m.\u001b[39msoyisim)\n\u001b[1;32m---> 10\u001b[0m p \u001b[39m=\u001b[39m Programmer(bildigi_dil\u001b[39m=\u001b[39;49m\u001b[39m'\u001b[39;49m\u001b[39mjava\u001b[39;49m\u001b[39m'\u001b[39;49m)\n",
      "Cell \u001b[1;32mIn [17], line 3\u001b[0m, in \u001b[0;36mProgrammer.__init__\u001b[1;34m(self, bildigi_dil)\u001b[0m\n\u001b[0;32m      2\u001b[0m \u001b[39mdef\u001b[39;00m \u001b[39m__init__\u001b[39m (\u001b[39mself\u001b[39m, bildigi_dil):\n\u001b[1;32m----> 3\u001b[0m     \u001b[39msuper\u001b[39;49m\u001b[39m.\u001b[39;49m\u001b[39m__init__\u001b[39;49m(\u001b[39mself\u001b[39;49m)\n\u001b[0;32m      4\u001b[0m     \u001b[39mself\u001b[39m\u001b[39m.\u001b[39mdil \u001b[39m=\u001b[39m bildigi_dil\n\u001b[0;32m      5\u001b[0m     \u001b[39mself\u001b[39m\u001b[39m.\u001b[39mtanimla()\n",
      "\u001b[1;31mTypeError\u001b[0m: descriptor '__init__' requires a 'super' object but received a 'Programmer'"
     ]
    }
   ],
   "source": [
    "class Programmer(Insan):\n",
    "    def __init__ (self, bildigi_dil):\n",
    "        super.__init__(self)\n",
    "        self.dil = bildigi_dil\n",
    "        self.tanimla()\n",
    "    def tanimla(self):\n",
    "        print(self.dil, 'dilini bilen programci tanimlandi')\n",
    "        print('programcinin adi:', Insan.isim, Insan.soyisim)\n",
    "\n",
    "p = Programmer(bildigi_dil='java')\n"
   ]
  },
  {
   "cell_type": "code",
   "execution_count": 29,
   "metadata": {},
   "outputs": [
    {
     "data": {
      "text/plain": [
       "10"
      ]
     },
     "execution_count": 29,
     "metadata": {},
     "output_type": "execute_result"
    }
   ],
   "source": [
    "class Person:\n",
    "    def __init__(self):\n",
    "        self.x = 10\n",
    "\n",
    "    \n",
    "p = Person()\n",
    "p.x\n",
    "\n"
   ]
  },
  {
   "cell_type": "code",
   "execution_count": 31,
   "metadata": {},
   "outputs": [
    {
     "data": {
      "text/plain": [
       "False"
      ]
     },
     "execution_count": 31,
     "metadata": {},
     "output_type": "execute_result"
    }
   ],
   "source": [
    "text = 'ani2l'\n",
    "text.isalpha()"
   ]
  },
  {
   "cell_type": "code",
   "execution_count": 8,
   "metadata": {},
   "outputs": [],
   "source": [
    "    \n",
    "\n",
    "class Person():\n",
    "    def __init__(self):\n",
    "        self.get_name()\n",
    "    \n",
    "    def get_name(self):\n",
    "        return 'hata'\n",
    "\n",
    "\n",
    "# class Main(Person):\n",
    "#     def __init__(self):\n",
    "#         self.get_name = input('name:')\n",
    "#         print(self.get_name)\n",
    "# m = Main()\n",
    "\n",
    "a = Person()"
   ]
  },
  {
   "cell_type": "code",
   "execution_count": 57,
   "metadata": {},
   "outputs": [
    {
     "name": "stdout",
     "output_type": "stream",
     "text": [
      "     std_name std_surname  std_number\n",
      "std1    Osman        Okcu         244\n",
      "std2    Faruk       Cimri         225\n",
      "std3    Kemal       Kilic         266\n",
      "std4   Hatice         Sen         371\n",
      "std5   Firuze         Pek         300\n",
      "std6      Oya       Yalin         267\n",
      "std7      Ali       Pamuk         189\n",
      "True\n",
      "     std_name  std_number\n",
      "std2    Faruk         225\n",
      "o kisi: Faruk \n",
      "o kisinin nosu: 225\n"
     ]
    }
   ],
   "source": [
    "import pandas as pd\n",
    "\n",
    "dic = {\n",
    "    'std_name' : ['Osman', 'Faruk', 'Kemal', 'Hatice', 'Firuze', 'Oya', 'Ali'],\n",
    "    'std_surname': ['Okcu', 'Cimri', 'Kilic', 'Sen', 'Pek', 'Yalin', 'Pamuk'],\n",
    "    'std_number': [244, 225, 266, 371, 300, 267, 189]\n",
    "}\n",
    "\n",
    "df = pd.DataFrame(dic, index=['std1', 'std2', 'std3', 'std4', 'std5', 'std6', 'std7'])\n",
    "print(df)\n",
    "\n",
    "check = df.isin(['Osman']).any().any()\n",
    "print(check)\n",
    "x = 'Cimri'\n",
    "dff = df[df['std_surname']==x][['std_name','std_number']]\n",
    "print(dff)\n",
    "the_one = dff.iat[0,0]\n",
    "the_one_number = dff.iat[0,1]\n",
    "\n",
    "print('o kisi:', the_one, '\\no kisinin nosu:', the_one_number)\n",
    "# giriş yapa bastı\n",
    "\n",
    "# giriş yaptığı maili bir değişkende tut\n",
    "\n",
    "#database\n",
    "# database'i dataframe dönüştür \n",
    "# check = df.isin(['kullanicimaili']).any().any()\n",
    "# giriş yaptığı mail'i maile sahip person'in parolasını iste\n",
    "\n",
    "# parolasını içerek dataframe'i .iat([0,0]) ile değişkene dönüştür\n",
    "\n",
    "# bu değişkeni kullanicinin girdiği parola ile karşılaştır, \n",
    "# eşitse sayfaya yönlendir, değilse hata döndür\n"
   ]
  },
  {
   "cell_type": "code",
   "execution_count": null,
   "metadata": {},
   "outputs": [],
   "source": []
  }
 ],
 "metadata": {
  "kernelspec": {
   "display_name": "Python 3",
   "language": "python",
   "name": "python3"
  },
  "language_info": {
   "codemirror_mode": {
    "name": "ipython",
    "version": 3
   },
   "file_extension": ".py",
   "mimetype": "text/x-python",
   "name": "python",
   "nbconvert_exporter": "python",
   "pygments_lexer": "ipython3",
   "version": "3.10.5 (tags/v3.10.5:f377153, Jun  6 2022, 16:14:13) [MSC v.1929 64 bit (AMD64)]"
  },
  "orig_nbformat": 4,
  "vscode": {
   "interpreter": {
    "hash": "5403a196476c0ad0ccf05bfceb7621612fed21267bbdb50228bbfb603cea73d6"
   }
  }
 },
 "nbformat": 4,
 "nbformat_minor": 2
}
